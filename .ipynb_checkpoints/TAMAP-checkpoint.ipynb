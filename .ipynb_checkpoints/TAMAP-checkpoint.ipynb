{
 "cells": [
  {
   "cell_type": "code",
   "execution_count": 1,
   "metadata": {},
   "outputs": [],
   "source": [
    "## Converting TA Sites from LAt Long to UTM for Plotting ##\n",
    "# Author : Greg Furlich\n",
    "# Date : 2019-01-29\n",
    "\n",
    "# Import Python Libraries #\n",
    "import pandas as pd\n",
    "import matplotlib.pyplot as plt\n",
    "import numpy as np\n",
    "import math\n",
    "%matplotlib inline "
   ]
  },
  {
   "cell_type": "code",
   "execution_count": 2,
   "metadata": {},
   "outputs": [
    {
     "name": "stdout",
     "output_type": "stream",
     "text": [
      "{'Altitude': [1382, 1404, 1554, 1600], 'Longitude': [-112.90875, -112.7117, -113.12147, -112.99366], 'Y': [0, -12.0442, -9.86272, 19.53612], 'Latitude': [39.29693, 39.1883, 39.20792, 39.47282], 'X': [0, 17.02811, -18.37754, -7.30807], 'Z': [0, -0.012095, 0.137922, 0.183828], 'FOVf': [0, 350, 125, 218], 'Site Name': ['Central Laser Facility', 'Black Rock Mesa', 'Long Ridge', 'Middle Drum'], 'Color': ['blue', 'red', 'green', 'purple'], 'Site': ['CLF', 'BR', 'LR', 'MD'], 'FOVi': [0, 242, 18, 102]}\n"
     ]
    }
   ],
   "source": [
    "## Define TA Sites in Longitude and Coordinates ##\n",
    "# br_lat, br_long = 39 11 17.89672, 112 42 42.62307\n",
    "# md_lat, md_long = 39 28 21.92558, 112 59 39.13405 \n",
    "# lr_lat, lr_long = 39 12 28.72883, 113 07 17.21173\n",
    "# clf_lat, clf_long = 39 17 48.90457, 112 54 31.43708\n",
    "\n",
    "# See http://telescopearray.org/tawiki/index.php/CLF/FD_site_locations#Notes\n",
    "site_name = ['Central Laser Facility','Black Rock Mesa','Long Ridge', 'Middle Drum']\n",
    "site = ['CLF','BR','LR','MD']\n",
    "site_color = ['blue', 'red', 'green', 'purple']\n",
    "lat_deg = [39.29693,39.18830,39.20792,39.47282]\n",
    "long_deg = [-112.90875,-112.71170,-113.12147,-112.99366]\n",
    "alt_m = [1382,1404,1554,1600]\n",
    "clf_x_km = [0,17.02811,-18.37754,-7.30807]\n",
    "clf_y_km = [0,-12.0442,-9.86272,19.53612]\n",
    "clf_z_km = [0,-.012095,.137922,.183828]\n",
    "# FOV in CW from North #\n",
    "fov_azm_i = [0, 242, 18, 102]\n",
    "fov_azm_f = [0, 350, 125, 218]\n",
    "\n",
    "TA = {'Site Name': site_name, 'Site': site, 'Color': site_color, 'Latitude': lat_deg, 'Longitude': long_deg, 'Altitude': alt_m, 'X': clf_x_km, 'Y': clf_y_km, 'Z': clf_z_km, 'FOVi': fov_azm_i, 'FOVf': fov_azm_f}\n",
    "print(TA)\n"
   ]
  },
  {
   "cell_type": "code",
   "execution_count": 3,
   "metadata": {},
   "outputs": [
    {
     "data": {
      "text/html": [
       "<div>\n",
       "<style scoped>\n",
       "    .dataframe tbody tr th:only-of-type {\n",
       "        vertical-align: middle;\n",
       "    }\n",
       "\n",
       "    .dataframe tbody tr th {\n",
       "        vertical-align: top;\n",
       "    }\n",
       "\n",
       "    .dataframe thead th {\n",
       "        text-align: right;\n",
       "    }\n",
       "</style>\n",
       "<table border=\"1\" class=\"dataframe\">\n",
       "  <thead>\n",
       "    <tr style=\"text-align: right;\">\n",
       "      <th></th>\n",
       "      <th>Altitude</th>\n",
       "      <th>Color</th>\n",
       "      <th>FOVf</th>\n",
       "      <th>FOVi</th>\n",
       "      <th>Latitude</th>\n",
       "      <th>Longitude</th>\n",
       "      <th>Site</th>\n",
       "      <th>Site Name</th>\n",
       "      <th>X</th>\n",
       "      <th>Y</th>\n",
       "      <th>Z</th>\n",
       "    </tr>\n",
       "  </thead>\n",
       "  <tbody>\n",
       "    <tr>\n",
       "      <th>0</th>\n",
       "      <td>1382</td>\n",
       "      <td>blue</td>\n",
       "      <td>0</td>\n",
       "      <td>0</td>\n",
       "      <td>39.29693</td>\n",
       "      <td>-112.90875</td>\n",
       "      <td>CLF</td>\n",
       "      <td>Central Laser Facility</td>\n",
       "      <td>0.00000</td>\n",
       "      <td>0.00000</td>\n",
       "      <td>0.000000</td>\n",
       "    </tr>\n",
       "    <tr>\n",
       "      <th>1</th>\n",
       "      <td>1404</td>\n",
       "      <td>red</td>\n",
       "      <td>350</td>\n",
       "      <td>242</td>\n",
       "      <td>39.18830</td>\n",
       "      <td>-112.71170</td>\n",
       "      <td>BR</td>\n",
       "      <td>Black Rock Mesa</td>\n",
       "      <td>17.02811</td>\n",
       "      <td>-12.04420</td>\n",
       "      <td>-0.012095</td>\n",
       "    </tr>\n",
       "    <tr>\n",
       "      <th>2</th>\n",
       "      <td>1554</td>\n",
       "      <td>green</td>\n",
       "      <td>125</td>\n",
       "      <td>18</td>\n",
       "      <td>39.20792</td>\n",
       "      <td>-113.12147</td>\n",
       "      <td>LR</td>\n",
       "      <td>Long Ridge</td>\n",
       "      <td>-18.37754</td>\n",
       "      <td>-9.86272</td>\n",
       "      <td>0.137922</td>\n",
       "    </tr>\n",
       "    <tr>\n",
       "      <th>3</th>\n",
       "      <td>1600</td>\n",
       "      <td>purple</td>\n",
       "      <td>218</td>\n",
       "      <td>102</td>\n",
       "      <td>39.47282</td>\n",
       "      <td>-112.99366</td>\n",
       "      <td>MD</td>\n",
       "      <td>Middle Drum</td>\n",
       "      <td>-7.30807</td>\n",
       "      <td>19.53612</td>\n",
       "      <td>0.183828</td>\n",
       "    </tr>\n",
       "  </tbody>\n",
       "</table>\n",
       "</div>"
      ],
      "text/plain": [
       "   Altitude   Color  FOVf  FOVi  Latitude  Longitude Site  \\\n",
       "0      1382    blue     0     0  39.29693 -112.90875  CLF   \n",
       "1      1404     red   350   242  39.18830 -112.71170   BR   \n",
       "2      1554   green   125    18  39.20792 -113.12147   LR   \n",
       "3      1600  purple   218   102  39.47282 -112.99366   MD   \n",
       "\n",
       "                Site Name         X         Y         Z  \n",
       "0  Central Laser Facility   0.00000   0.00000  0.000000  \n",
       "1         Black Rock Mesa  17.02811 -12.04420 -0.012095  \n",
       "2              Long Ridge -18.37754  -9.86272  0.137922  \n",
       "3             Middle Drum  -7.30807  19.53612  0.183828  "
      ]
     },
     "execution_count": 3,
     "metadata": {},
     "output_type": "execute_result"
    }
   ],
   "source": [
    "## Convert Dictionary to Pandas DF ##\n",
    "ta_df = pd.DataFrame(TA)\n",
    "ta_df"
   ]
  },
  {
   "cell_type": "code",
   "execution_count": 4,
   "metadata": {},
   "outputs": [
    {
     "data": {
      "image/png": "[encoded data removed]",
      "text/plain": [
       "<Figure size 576x576 with 1 Axes>"
      ]
     },
     "metadata": {
      "needs_background": "light"
     },
     "output_type": "display_data"
    }
   ],
   "source": [
    "## Plot Location in CLF Coordinates ##\n",
    "plt.style.context('seaborn')\n",
    "fig = plt.figure(figsize=(8,8))\n",
    "ax = fig.add_subplot(111)\n",
    "for (x,y,color,label) in zip(ta_df['X'],ta_df['Y'],ta_df['Color'],ta_df['Site']):\n",
    "    #print (x,y,color,label)\n",
    "    plt.scatter(x,y,marker='*',color=str(color),label=str(label))\n",
    "ax.set_aspect('equal')\n",
    "plt.xlim([-40,40])\n",
    "plt.ylim([-40,40])\n",
    "plt.xlabel('East [km]')\n",
    "plt.ylabel('North [km]')\n",
    "plt.legend()\n",
    "plt.show()"
   ]
  },
  {
   "cell_type": "code",
   "execution_count": 5,
   "metadata": {},
   "outputs": [
    {
     "name": "stdout",
     "output_type": "stream",
     "text": [
      "12\n"
     ]
    }
   ],
   "source": [
    "## Create Field of View Arcs for site ##\n",
    "def FOV_arc(r,ang_i,ang_f,xo,yo):\n",
    "    d_ang = 100\n",
    "    ang = np.linspace(ang_i,ang_f,d_ang)\n",
    "    ring_x = r * np.sin(ang * np.pi / 180) + xo\n",
    "    ring_y = r * np.cos(ang * np.pi / 180) + yo\n",
    "    ring_x = np.concatenate(([xo],ring_x,[xo]))\n",
    "    ring_y = np.concatenate(([yo],ring_y,[yo]))\n",
    "    \n",
    "    return ring_x, ring_y\n",
    "\n",
    "FOV_x, FOV_y = [], []\n",
    "FOV_c = []\n",
    "for (ang_i, ang_f, xo, yo, color) in zip(ta_df['FOVi'].values,ta_df['FOVf'].values,ta_df['X'].values,ta_df['Y'].values,ta_df['Color'].values):\n",
    "    r = [10,20,30]\n",
    "    #print(ang_i, ang_f, xo, yo)\n",
    "    for r in r:\n",
    "        x, y = FOV_arc(r, ang_i, ang_f, xo, yo)\n",
    "        FOV_x.append(x)\n",
    "        FOV_y.append(y)\n",
    "        FOV_c.append(color)\n",
    "print(len(FOV_x))"
   ]
  },
  {
   "cell_type": "code",
   "execution_count": 6,
   "metadata": {},
   "outputs": [
    {
     "data": {
      "image/png": "[encoded data removed]",
      "text/plain": [
       "<Figure size 576x576 with 1 Axes>"
      ]
     },
     "metadata": {
      "needs_background": "light"
     },
     "output_type": "display_data"
    }
   ],
   "source": [
    "## Plot Location in CLF Coordinates ##\n",
    "plt.style.context('seaborn')\n",
    "fig = plt.figure(figsize=(8,8))\n",
    "ax = fig.add_subplot(111)\n",
    "# Plot Sites #\n",
    "for (x,y,color,label) in zip(ta_df['X'],ta_df['Y'],ta_df['Color'],ta_df['Site']):\n",
    "    #print (x,y,color,label)\n",
    "    plt.scatter(x,y,marker='*',color=str(color))\n",
    "# Plot FOV #\n",
    "for (x,y,c) in zip(FOV_x, FOV_y, FOV_c):\n",
    "    if x[0] != 0 :\n",
    "        alpha = .02\n",
    "        plt.fill(x,y,color=c,alpha=alpha)\n",
    "# Label Sites #\n",
    "for (x,y,text) in zip(ta_df['X'],ta_df['Y'],ta_df['Site']):\n",
    "    #print (x,y,color,label)\n",
    "    if text == 'MD':\n",
    "        plt.text(x,y + 2,text, verticalalignment='center', horizontalalignment='center')\n",
    "    else :\n",
    "        plt.text(x,y - 2,text, verticalalignment='center', horizontalalignment='center')\n",
    "plt.xlim([-30,30])\n",
    "plt.ylim([-30,30])\n",
    "plt.title('Telescope Array Cosmic Ray Observatory')\n",
    "plt.xlabel('East [km]')\n",
    "plt.ylabel('North [km]')\n",
    "ax.set_aspect('equal')\n",
    "plt.show()"
   ]
  },
  {
   "cell_type": "code",
   "execution_count": 7,
   "metadata": {},
   "outputs": [],
   "source": [
    "## Check Lat and Long Degree Minute Second to Degree Decimal ##\n",
    "# from TA wiki with m00 for some sites [D,m,s]\n",
    "clf_lat, clf_long = [39,17,48.90457], [112,54,31.43708]\n",
    "br_lat, br_long = [39,11,17.89672], [112,42,42.62307]\n",
    "lr_lat, lr_long = [39,12,28.72883],[113,7,17.21173]\n",
    "md_lat, md_long = [39,28,21.92558],[112,59,39.13405 ]\n",
    "\n",
    "def dms2dd(lat_dms, long_dms):\n",
    "    '''\n",
    "    Convert Longitude and Latitude in Degrees Minute Seconds to Decimal Degrees.\n",
    "    '''\n",
    "    long_d = long_dms[0]\n",
    "    long_m = long_dms[1]\n",
    "    long_s = long_dms[2]\n",
    "    lat_dd = float(lat_dms[0]) + float(lat_dms[1]/ 60) + float(lat_dms[2]/ 3600)\n",
    "    long_dd = float(long_d) + float(long_m / 60) + float(long_s / 3600)\n",
    "    long_dd = -1 * long_dd\n",
    "    return lat_dd, long_dd\n",
    "\n",
    "#clf_lat,clf_long = dms2dd(clf_lat,clf_long)\n",
    "#br_lat,br_long = dms2dd(br_lat,br_long)\n",
    "#lr_lat,lr_long = dms2dd(lr_lat,lr_long)\n",
    "#md_lat,md_long = dms2dd(md_lat,md_long)"
   ]
  },
  {
   "cell_type": "code",
   "execution_count": 8,
   "metadata": {},
   "outputs": [],
   "source": [
    "## Checking Haversine and Bearing Functions ##\n",
    "\n",
    "def haversine(longitude_1, latitude_1, longitude_2, latitude_2):\n",
    "    \"\"\"\n",
    "    Calculate the great circle distance between two points p1 and p2\n",
    "    on the earth (specified in decimal degrees)\n",
    "    \"\"\"\n",
    "    \n",
    "    # convert decimal degrees to radians #\n",
    "    longitude_1, latitude_1, longitude_2, latitude_2 = map(math.radians, [longitude_1, latitude_1, longitude_2, latitude_2])\n",
    "\n",
    "    # haversine formula #\n",
    "    dlongitude = longitude_2 - longitude_1 \n",
    "    dlatitude = latitude_2 - latitude_1 \n",
    "    a = math.sin(dlatitude/2)**2 + math.cos(latitude_1) * math.cos(latitude_2) * math.sin(dlongitude/2)**2\n",
    "    c = 2 * math.asin(math.sqrt(a)) \n",
    "    \n",
    "    # Earth Radius in m from wikipedia #\n",
    "    radius = [6378100, 6356800, 6378137, 6356752.3141, 6399593.6259, \n",
    "              6371008.7714, 6371007.1810, 6371000.7900, 6378137.0, \n",
    "              6356752.3142, 6399593.6258, 6371008.7714, 6371007.1809, \n",
    "              6371000.7900, 6378137.0, 6356752.314140, 6335439, \n",
    "              6384400, 6352800, 6371230]\n",
    "    description = [\n",
    "        'nominal \\\"zero tide\\\" equatorial',\n",
    "        'nominal \\\"zero tide\\\" polar ',\n",
    "        'equatorial radius',\n",
    "        'semiminor axis (b)',\n",
    "        'polar radius of curvature (c)',\n",
    "        'mean radius (R1)',\n",
    "        'radius of sphere of same surface (R2)',\n",
    "        'radius of sphere of same volume (R3)',\n",
    "        'WGS-84 ellipsoid, semi-major axis (a)',\n",
    "        'WGS-84 ellipsoid, semi-minor axis (b)',\n",
    "        'WGS-84 ellipsoid, polar radius of curvature (c)',\n",
    "        'WGS-84 ellipsoid, Mean radius of semi-axes (R1)',\n",
    "        'WGS-84 ellipsoid, Radius of Sphere of Equal Area (R2)',\n",
    "        'WGS-84 ellipsoid, Radius of Sphere of Equal Volume (R3)',\n",
    "        'GRS 80 semi-major axis (a)',\n",
    "        'GRS 80 semi-minor axis (b)',\n",
    "        'meridional radius of curvature at the equator',\n",
    "        'Maximum (the summit of Chimborazo)',\n",
    "        'Minimum (the floor of the Arctic Ocean)',\n",
    "        'Average distance from center to surface'\n",
    "    ]\n",
    "    \n",
    "    R_Earth = {'r': radius, 'description': description}\n",
    "    R_Earth = pd.DataFrame(R_Earth)\n",
    "    \n",
    "    # Radius of the Earth in km #\n",
    "    r = (R_Earth['r'][3] + ta_df['Altitude'][0])/ 1000\n",
    "    #r = R_Earth['r'][3]/ 1000\n",
    "    \n",
    "    # Bearing Angle CW from North\n",
    "    bearing = math.atan2(math.sin(longitude_2-longitude_1)*math.cos(latitude_2), math.cos(latitude_1)*math.sin(latitude_2)-math.sin(latitude_1)*math.cos(latitude_2)*math.cos(longitude_2-longitude_1))\n",
    " \n",
    "    # Great Circle Distance #\n",
    "    d = c * r\n",
    "    \n",
    "    # Convert Bearing Angle to degrees #\n",
    "    # bearing = bearing * 180 / pi\n",
    "        \n",
    "    return d, bearing"
   ]
  },
  {
   "cell_type": "code",
   "execution_count": 9,
   "metadata": {},
   "outputs": [
    {
     "name": "stdout",
     "output_type": "stream",
     "text": [
      "(20.787421108875236, 2.188318720825287)\n",
      "20.8571159035\n",
      "(20.777392906947284, -2.065034220004115)\n",
      "20.8568267541\n",
      "(20.83295262607986, -0.3566462392756705)\n",
      "20.8582806525\n"
     ]
    }
   ],
   "source": [
    "## Distance Between CLF and FD Sites ##\n",
    "print(haversine(ta_df['Longitude'][0], ta_df['Latitude'][0], ta_df['Longitude'][1], ta_df['Latitude'][1]))\n",
    "print(math.sqrt(ta_df['X'][1]*ta_df['X'][1] + ta_df['Y'][1]*ta_df['Y'][1]))\n",
    "\n",
    "print(haversine(ta_df['Longitude'][0], ta_df['Latitude'][0], ta_df['Longitude'][2], ta_df['Latitude'][2]))\n",
    "print(math.sqrt(ta_df['X'][2]*ta_df['X'][2] + ta_df['Y'][2]*ta_df['Y'][2]))\n",
    "\n",
    "print(haversine(ta_df['Longitude'][0], ta_df['Latitude'][0], ta_df['Longitude'][3], ta_df['Latitude'][3]))\n",
    "print(math.sqrt(ta_df['X'][3]*ta_df['X'][3] + ta_df['Y'][3]*ta_df['Y'][3]))"
   ]
  },
  {
   "cell_type": "code",
   "execution_count": 10,
   "metadata": {},
   "outputs": [
    {
     "name": "stdout",
     "output_type": "stream",
     "text": [
      "((16.948307328646596, -12.036268319186634), (17.02811, -12.0442))\n"
     ]
    }
   ],
   "source": [
    "def CLF_coord(longitude, latitude):\n",
    "    '''\n",
    "    Calculates the x and y components of distance between a a point with decimal degree longitude, latitude.\n",
    "    CLF Coordinates :\n",
    "    +x : East [m]\n",
    "    +y : North [m]\n",
    "    '''\n",
    "    clf_longitude, clf_latitude = ta_df['Longitude'][0], ta_df['Latitude'][0]\n",
    "    \n",
    "    d, bearing = haversine(clf_longitude, clf_latitude, longitude, latitude)\n",
    "        \n",
    "    # Find the x and y component of the Distance #\n",
    "    x = d * math.sin(bearing)\n",
    "    y = d * math.cos(bearing)\n",
    "    \n",
    "    return x, y\n",
    "\n",
    "print(CLF_coord(ta_df['Longitude'][1], ta_df['Latitude'][1]), (ta_df['X'][1],ta_df['Y'][1]))"
   ]
  },
  {
   "cell_type": "code",
   "execution_count": 11,
   "metadata": {},
   "outputs": [
    {
     "name": "stdout",
     "output_type": "stream",
     "text": [
      "((16.948307328646596, -12.036268319186634), (17.02811, -12.0442))\n",
      "((-18.290972252274912, -9.855982451088913), (-18.37754, -9.86272))\n",
      "((-7.273481332606207, 19.52199744966474), (-7.30807, 19.53612))\n"
     ]
    }
   ],
   "source": [
    "# Compare with given distances #\n",
    "print(CLF_coord(ta_df['Longitude'][1], ta_df['Latitude'][1]), (ta_df['X'][1],ta_df['Y'][1]))\n",
    "print(CLF_coord(ta_df['Longitude'][2], ta_df['Latitude'][2]), (ta_df['X'][2],ta_df['Y'][2]))\n",
    "print(CLF_coord(ta_df['Longitude'][3], ta_df['Latitude'][3]), (ta_df['X'][3],ta_df['Y'][3]))"
   ]
  },
  {
   "cell_type": "code",
   "execution_count": 12,
   "metadata": {},
   "outputs": [
    {
     "name": "stdout",
     "output_type": "stream",
     "text": [
      "0.4686525477777961\n",
      "0.06585477502337901\n",
      "0.4710518803119878\n",
      "0.06831329401104946\n",
      "0.47329414460716657\n",
      "0.07228943278019721\n"
     ]
    }
   ],
   "source": [
    "# Percent diff #\n",
    "print(np.abs((CLF_coord(ta_df['Longitude'][1], ta_df['Latitude'][1])[0] - ta_df['X'][1])/ ta_df['X'][1] * 100))\n",
    "print(np.abs((CLF_coord(ta_df['Longitude'][1], ta_df['Latitude'][1])[1] - ta_df['Y'][1])/ ta_df['Y'][1] * 100))\n",
    "      \n",
    "print(np.abs((CLF_coord(ta_df['Longitude'][2], ta_df['Latitude'][2])[0] - ta_df['X'][2])/ ta_df['X'][2] * 100))\n",
    "print(np.abs((CLF_coord(ta_df['Longitude'][2], ta_df['Latitude'][2])[1] - ta_df['Y'][2])/ ta_df['Y'][2] * 100))\n",
    "      \n",
    "print(np.abs((CLF_coord(ta_df['Longitude'][3], ta_df['Latitude'][3])[0] - ta_df['X'][3])/ ta_df['X'][3] * 100))\n",
    "print(np.abs((CLF_coord(ta_df['Longitude'][3], ta_df['Latitude'][3])[1] - ta_df['Y'][3])/ ta_df['Y'][3] * 100))\n",
    "# .5 % off in km most time in x positions, and .07% in y positions"
   ]
  },
  {
   "cell_type": "code",
   "execution_count": 13,
   "metadata": {},
   "outputs": [
    {
     "data": {
      "image/png": "[encoded data removed]",
      "text/plain": [
       "<Figure size 576x576 with 1 Axes>"
      ]
     },
     "metadata": {
      "needs_background": "light"
     },
     "output_type": "display_data"
    }
   ],
   "source": [
    "## Plot Location in CLF Coordinates ##\n",
    "plt.style.context('seaborn')\n",
    "fig = plt.figure(figsize=(8,8))\n",
    "ax = fig.add_subplot(111)\n",
    "for (x,y,color,label) in zip(ta_df['X'],ta_df['Y'],ta_df['Color'],ta_df['Site']):\n",
    "    plt.scatter(x,y,marker='*',color=str(color),label=str(label))\n",
    "for (long,lat,color,label) in zip(ta_df['Longitude'],ta_df['Latitude'],ta_df['Color'],ta_df['Site']):\n",
    "    x,y = CLF_coord(long,lat)\n",
    "    plt.scatter(x,y,marker='*',color=str(color),label=str(label+' Calc'))\n",
    "ax.set_aspect('equal')\n",
    "plt.xlim([-30,30])\n",
    "plt.ylim([-30,30])\n",
    "plt.xlabel('East [km]')\n",
    "plt.ylabel('North [km]')\n",
    "plt.legend()\n",
    "plt.show()"
   ]
  },
  {
   "cell_type": "code",
   "execution_count": null,
   "metadata": {},
   "outputs": [],
   "source": []
  }
 ],
 "metadata": {
  "kernelspec": {
   "display_name": "Python 3",
   "language": "python",
   "name": "python3"
  },
  "language_info": {
   "codemirror_mode": {
    "name": "ipython",
    "version": 2
   },
   "file_extension": ".py",
   "mimetype": "text/x-python",
   "name": "python",
   "nbconvert_exporter": "python",
   "pygments_lexer": "ipython2",
   "version": "2.7.15rc1"
  }
 },
 "nbformat": 4,
 "nbformat_minor": 2
}
